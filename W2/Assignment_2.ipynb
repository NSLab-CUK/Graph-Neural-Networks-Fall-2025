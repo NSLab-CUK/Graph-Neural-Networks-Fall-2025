{
 "cells": [
  {
   "cell_type": "markdown",
   "id": "85e8ded5",
   "metadata": {},
   "source": [
    "# Given a following karate graph  \n",
    "\n",
    "## Assigment 1. Implementing the Node2Vec model to learn the representations for each node and visualizing the node embeddings via TSNE or PCA\n",
    "\n",
    "## Assigment 2. Implementing the LINE model to learn the representations for each node and visualizing the node embeddings via TSNE or PCA"
   ]
  }
 ],
 "metadata": {
  "kernelspec": {
   "display_name": "Python 3 (ipykernel)",
   "language": "python",
   "name": "python3"
  },
  "language_info": {
   "codemirror_mode": {
    "name": "ipython",
    "version": 3
   },
   "file_extension": ".py",
   "mimetype": "text/x-python",
   "name": "python",
   "nbconvert_exporter": "python",
   "pygments_lexer": "ipython3",
   "version": "3.8.16"
  }
 },
 "nbformat": 4,
 "nbformat_minor": 5
}
